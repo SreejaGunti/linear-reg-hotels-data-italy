{
  "nbformat": 4,
  "nbformat_minor": 0,
  "metadata": {
    "kernelspec": {
      "display_name": "Python 3",
      "language": "python",
      "name": "python3"
    },
    "language_info": {
      "codemirror_mode": {
        "name": "ipython",
        "version": 3
      },
      "file_extension": ".py",
      "mimetype": "text/x-python",
      "name": "python",
      "nbconvert_exporter": "python",
      "pygments_lexer": "ipython3",
      "version": "3.6.9"
    },
    "colab": {
      "name": "Sreeja Assign 2 (1).ipynb",
      "provenance": []
    }
  },
  "cells": [
    {
      "cell_type": "code",
      "metadata": {
        "id": "Yj09ylMOdONz"
      },
      "source": [
        "import pandas as pd"
      ],
      "execution_count": 1,
      "outputs": []
    },
    {
      "cell_type": "code",
      "metadata": {
        "id": "V38LTSKydON2"
      },
      "source": [
        "df = pd.read_excel(\"/content/Assign2_18062021.xlsx\")"
      ],
      "execution_count": 2,
      "outputs": []
    },
    {
      "cell_type": "code",
      "metadata": {
        "colab": {
          "base_uri": "https://localhost:8080/"
        },
        "id": "tod3fLX4dON5",
        "outputId": "9ba8281a-7d4a-49bd-e52c-523aa51ab935"
      },
      "source": [
        "#around 3000 rows and 13 columns\n",
        "df.shape"
      ],
      "execution_count": 3,
      "outputs": [
        {
          "output_type": "execute_result",
          "data": {
            "text/plain": [
              "(2974, 13)"
            ]
          },
          "metadata": {
            "tags": []
          },
          "execution_count": 3
        }
      ]
    },
    {
      "cell_type": "code",
      "metadata": {
        "colab": {
          "base_uri": "https://localhost:8080/"
        },
        "id": "gA8p4WbEdON6",
        "outputId": "0a6e0591-a5fc-4f0f-e950-b93a8a54d55a"
      },
      "source": [
        "df.info"
      ],
      "execution_count": 4,
      "outputs": [
        {
          "output_type": "execute_result",
          "data": {
            "text/plain": [
              "<bound method DataFrame.info of         id          Region  ...  SalesRevenues  Employees\n",
              "0        1       LOMBARDIA  ...    3258939.000       4246\n",
              "1        2       LOMBARDIA  ...    1712869.843       1165\n",
              "2        3       LOMBARDIA  ...    1108477.225       1047\n",
              "3        4       LOMBARDIA  ...     869064.126       1162\n",
              "4        5       LOMBARDIA  ...     816012.000        976\n",
              "...    ...             ...  ...            ...        ...\n",
              "2969  2970        PIEMONTE  ...          1.000          1\n",
              "2970  2971        CAMPANIA  ...          1.000          4\n",
              "2971  2972        PIEMONTE  ...          1.000          1\n",
              "2972  2973  EMILIA-ROMAGNA  ...          1.000          1\n",
              "2973  2974       LOMBARDIA  ...          1.000          1\n",
              "\n",
              "[2974 rows x 13 columns]>"
            ]
          },
          "metadata": {
            "tags": []
          },
          "execution_count": 4
        }
      ]
    },
    {
      "cell_type": "code",
      "metadata": {
        "colab": {
          "base_uri": "https://localhost:8080/",
          "height": 315
        },
        "id": "8bZ5NAZUdON7",
        "outputId": "fed652ab-ebba-49aa-d208-62e4a47a399b"
      },
      "source": [
        "df.describe()"
      ],
      "execution_count": 5,
      "outputs": [
        {
          "output_type": "execute_result",
          "data": {
            "text/html": [
              "<div>\n",
              "<style scoped>\n",
              "    .dataframe tbody tr th:only-of-type {\n",
              "        vertical-align: middle;\n",
              "    }\n",
              "\n",
              "    .dataframe tbody tr th {\n",
              "        vertical-align: top;\n",
              "    }\n",
              "\n",
              "    .dataframe thead th {\n",
              "        text-align: right;\n",
              "    }\n",
              "</style>\n",
              "<table border=\"1\" class=\"dataframe\">\n",
              "  <thead>\n",
              "    <tr style=\"text-align: right;\">\n",
              "      <th></th>\n",
              "      <th>id</th>\n",
              "      <th>YearEstablishment</th>\n",
              "      <th>SectorCode</th>\n",
              "      <th>ShareholdersCapital</th>\n",
              "      <th>NetIncome</th>\n",
              "      <th>WagesSalary</th>\n",
              "      <th>ROA</th>\n",
              "      <th>ROE</th>\n",
              "      <th>R&amp;D</th>\n",
              "      <th>SalesRevenues</th>\n",
              "      <th>Employees</th>\n",
              "    </tr>\n",
              "  </thead>\n",
              "  <tbody>\n",
              "    <tr>\n",
              "      <th>count</th>\n",
              "      <td>2974.000000</td>\n",
              "      <td>2974.000000</td>\n",
              "      <td>2974.000000</td>\n",
              "      <td>2.974000e+03</td>\n",
              "      <td>2.974000e+03</td>\n",
              "      <td>2974.000000</td>\n",
              "      <td>2974.000000</td>\n",
              "      <td>2837.000000</td>\n",
              "      <td>2.974000e+03</td>\n",
              "      <td>2.974000e+03</td>\n",
              "      <td>2974.000000</td>\n",
              "    </tr>\n",
              "    <tr>\n",
              "      <th>mean</th>\n",
              "      <td>1487.500000</td>\n",
              "      <td>2018.361802</td>\n",
              "      <td>203.287155</td>\n",
              "      <td>1.876315e+06</td>\n",
              "      <td>3.597378e+06</td>\n",
              "      <td>39852.965703</td>\n",
              "      <td>5.712374</td>\n",
              "      <td>10.816168</td>\n",
              "      <td>3.766252e+04</td>\n",
              "      <td>1.645322e+04</td>\n",
              "      <td>35.270343</td>\n",
              "    </tr>\n",
              "    <tr>\n",
              "      <th>std</th>\n",
              "      <td>858.664176</td>\n",
              "      <td>1.289652</td>\n",
              "      <td>1.526398</td>\n",
              "      <td>2.677179e+07</td>\n",
              "      <td>1.289214e+07</td>\n",
              "      <td>18229.975046</td>\n",
              "      <td>12.193082</td>\n",
              "      <td>24.651253</td>\n",
              "      <td>6.738295e+05</td>\n",
              "      <td>8.324257e+04</td>\n",
              "      <td>114.730191</td>\n",
              "    </tr>\n",
              "    <tr>\n",
              "      <th>min</th>\n",
              "      <td>1.000000</td>\n",
              "      <td>2005.000000</td>\n",
              "      <td>201.000000</td>\n",
              "      <td>1.000000e+00</td>\n",
              "      <td>2.660000e+02</td>\n",
              "      <td>10.000000</td>\n",
              "      <td>-222.470000</td>\n",
              "      <td>-144.270000</td>\n",
              "      <td>0.000000e+00</td>\n",
              "      <td>1.380000e-01</td>\n",
              "      <td>1.000000</td>\n",
              "    </tr>\n",
              "    <tr>\n",
              "      <th>25%</th>\n",
              "      <td>744.250000</td>\n",
              "      <td>2018.000000</td>\n",
              "      <td>202.000000</td>\n",
              "      <td>1.045500e+04</td>\n",
              "      <td>1.885378e+05</td>\n",
              "      <td>27400.000000</td>\n",
              "      <td>1.750000</td>\n",
              "      <td>2.240000</td>\n",
              "      <td>0.000000e+00</td>\n",
              "      <td>7.307862e+02</td>\n",
              "      <td>4.000000</td>\n",
              "    </tr>\n",
              "    <tr>\n",
              "      <th>50%</th>\n",
              "      <td>1487.500000</td>\n",
              "      <td>2019.000000</td>\n",
              "      <td>204.000000</td>\n",
              "      <td>6.000000e+04</td>\n",
              "      <td>6.297780e+05</td>\n",
              "      <td>38520.000000</td>\n",
              "      <td>4.625000</td>\n",
              "      <td>9.260000</td>\n",
              "      <td>0.000000e+00</td>\n",
              "      <td>2.499457e+03</td>\n",
              "      <td>11.000000</td>\n",
              "    </tr>\n",
              "    <tr>\n",
              "      <th>75%</th>\n",
              "      <td>2230.750000</td>\n",
              "      <td>2019.000000</td>\n",
              "      <td>205.000000</td>\n",
              "      <td>2.600000e+05</td>\n",
              "      <td>2.253453e+06</td>\n",
              "      <td>51110.000000</td>\n",
              "      <td>9.557500</td>\n",
              "      <td>19.920000</td>\n",
              "      <td>0.000000e+00</td>\n",
              "      <td>9.488506e+03</td>\n",
              "      <td>29.000000</td>\n",
              "    </tr>\n",
              "    <tr>\n",
              "      <th>max</th>\n",
              "      <td>2974.000000</td>\n",
              "      <td>2019.000000</td>\n",
              "      <td>206.000000</td>\n",
              "      <td>1.364790e+09</td>\n",
              "      <td>3.322634e+08</td>\n",
              "      <td>99840.000000</td>\n",
              "      <td>101.550000</td>\n",
              "      <td>143.910000</td>\n",
              "      <td>2.908500e+07</td>\n",
              "      <td>3.258939e+06</td>\n",
              "      <td>4246.000000</td>\n",
              "    </tr>\n",
              "  </tbody>\n",
              "</table>\n",
              "</div>"
            ],
            "text/plain": [
              "                id  YearEstablishment  ...  SalesRevenues    Employees\n",
              "count  2974.000000        2974.000000  ...   2.974000e+03  2974.000000\n",
              "mean   1487.500000        2018.361802  ...   1.645322e+04    35.270343\n",
              "std     858.664176           1.289652  ...   8.324257e+04   114.730191\n",
              "min       1.000000        2005.000000  ...   1.380000e-01     1.000000\n",
              "25%     744.250000        2018.000000  ...   7.307862e+02     4.000000\n",
              "50%    1487.500000        2019.000000  ...   2.499457e+03    11.000000\n",
              "75%    2230.750000        2019.000000  ...   9.488506e+03    29.000000\n",
              "max    2974.000000        2019.000000  ...   3.258939e+06  4246.000000\n",
              "\n",
              "[8 rows x 11 columns]"
            ]
          },
          "metadata": {
            "tags": []
          },
          "execution_count": 5
        }
      ]
    },
    {
      "cell_type": "code",
      "metadata": {
        "colab": {
          "base_uri": "https://localhost:8080/",
          "height": 454
        },
        "id": "xWBqnUTZdON8",
        "outputId": "0e90ce4b-833c-42b0-dcf6-1a77586f37f9"
      },
      "source": [
        "df"
      ],
      "execution_count": 6,
      "outputs": [
        {
          "output_type": "execute_result",
          "data": {
            "text/html": [
              "<div>\n",
              "<style scoped>\n",
              "    .dataframe tbody tr th:only-of-type {\n",
              "        vertical-align: middle;\n",
              "    }\n",
              "\n",
              "    .dataframe tbody tr th {\n",
              "        vertical-align: top;\n",
              "    }\n",
              "\n",
              "    .dataframe thead th {\n",
              "        text-align: right;\n",
              "    }\n",
              "</style>\n",
              "<table border=\"1\" class=\"dataframe\">\n",
              "  <thead>\n",
              "    <tr style=\"text-align: right;\">\n",
              "      <th></th>\n",
              "      <th>id</th>\n",
              "      <th>Region</th>\n",
              "      <th>YearEstablishment</th>\n",
              "      <th>SectorCode</th>\n",
              "      <th>Sector</th>\n",
              "      <th>ShareholdersCapital</th>\n",
              "      <th>NetIncome</th>\n",
              "      <th>WagesSalary</th>\n",
              "      <th>ROA</th>\n",
              "      <th>ROE</th>\n",
              "      <th>R&amp;D</th>\n",
              "      <th>SalesRevenues</th>\n",
              "      <th>Employees</th>\n",
              "    </tr>\n",
              "  </thead>\n",
              "  <tbody>\n",
              "    <tr>\n",
              "      <th>0</th>\n",
              "      <td>1</td>\n",
              "      <td>LOMBARDIA</td>\n",
              "      <td>2019</td>\n",
              "      <td>201</td>\n",
              "      <td>Hotels</td>\n",
              "      <td>1364790000</td>\n",
              "      <td>8725000</td>\n",
              "      <td>70160</td>\n",
              "      <td>-18.25</td>\n",
              "      <td>-55.70</td>\n",
              "      <td>0</td>\n",
              "      <td>3258939.000</td>\n",
              "      <td>4246</td>\n",
              "    </tr>\n",
              "    <tr>\n",
              "      <th>1</th>\n",
              "      <td>2</td>\n",
              "      <td>LOMBARDIA</td>\n",
              "      <td>2019</td>\n",
              "      <td>205</td>\n",
              "      <td>Restaurant</td>\n",
              "      <td>100000000</td>\n",
              "      <td>163476925</td>\n",
              "      <td>78400</td>\n",
              "      <td>6.10</td>\n",
              "      <td>6.46</td>\n",
              "      <td>0</td>\n",
              "      <td>1712869.843</td>\n",
              "      <td>1165</td>\n",
              "    </tr>\n",
              "    <tr>\n",
              "      <th>2</th>\n",
              "      <td>3</td>\n",
              "      <td>LOMBARDIA</td>\n",
              "      <td>2019</td>\n",
              "      <td>201</td>\n",
              "      <td>Hotels</td>\n",
              "      <td>180000000</td>\n",
              "      <td>332263387</td>\n",
              "      <td>82640</td>\n",
              "      <td>24.83</td>\n",
              "      <td>50.91</td>\n",
              "      <td>0</td>\n",
              "      <td>1108477.225</td>\n",
              "      <td>1047</td>\n",
              "    </tr>\n",
              "    <tr>\n",
              "      <th>3</th>\n",
              "      <td>4</td>\n",
              "      <td>LOMBARDIA</td>\n",
              "      <td>2019</td>\n",
              "      <td>204</td>\n",
              "      <td>BedBreakfast</td>\n",
              "      <td>1679800</td>\n",
              "      <td>170083700</td>\n",
              "      <td>92490</td>\n",
              "      <td>14.23</td>\n",
              "      <td>31.11</td>\n",
              "      <td>0</td>\n",
              "      <td>869064.126</td>\n",
              "      <td>1162</td>\n",
              "    </tr>\n",
              "    <tr>\n",
              "      <th>4</th>\n",
              "      <td>5</td>\n",
              "      <td>LOMBARDIA</td>\n",
              "      <td>2019</td>\n",
              "      <td>201</td>\n",
              "      <td>Hotels</td>\n",
              "      <td>374187000</td>\n",
              "      <td>265114000</td>\n",
              "      <td>79830</td>\n",
              "      <td>11.97</td>\n",
              "      <td>10.92</td>\n",
              "      <td>15773000</td>\n",
              "      <td>816012.000</td>\n",
              "      <td>976</td>\n",
              "    </tr>\n",
              "    <tr>\n",
              "      <th>...</th>\n",
              "      <td>...</td>\n",
              "      <td>...</td>\n",
              "      <td>...</td>\n",
              "      <td>...</td>\n",
              "      <td>...</td>\n",
              "      <td>...</td>\n",
              "      <td>...</td>\n",
              "      <td>...</td>\n",
              "      <td>...</td>\n",
              "      <td>...</td>\n",
              "      <td>...</td>\n",
              "      <td>...</td>\n",
              "      <td>...</td>\n",
              "    </tr>\n",
              "    <tr>\n",
              "      <th>2969</th>\n",
              "      <td>2970</td>\n",
              "      <td>PIEMONTE</td>\n",
              "      <td>2018</td>\n",
              "      <td>204</td>\n",
              "      <td>BedBreakfast</td>\n",
              "      <td>200000</td>\n",
              "      <td>36127</td>\n",
              "      <td>15120</td>\n",
              "      <td>-5.94</td>\n",
              "      <td>-37.49</td>\n",
              "      <td>0</td>\n",
              "      <td>1.000</td>\n",
              "      <td>1</td>\n",
              "    </tr>\n",
              "    <tr>\n",
              "      <th>2970</th>\n",
              "      <td>2971</td>\n",
              "      <td>CAMPANIA</td>\n",
              "      <td>2017</td>\n",
              "      <td>203</td>\n",
              "      <td>BarPubs</td>\n",
              "      <td>10000</td>\n",
              "      <td>5996</td>\n",
              "      <td>910</td>\n",
              "      <td>0.08</td>\n",
              "      <td>15.30</td>\n",
              "      <td>0</td>\n",
              "      <td>1.000</td>\n",
              "      <td>4</td>\n",
              "    </tr>\n",
              "    <tr>\n",
              "      <th>2971</th>\n",
              "      <td>2972</td>\n",
              "      <td>PIEMONTE</td>\n",
              "      <td>2019</td>\n",
              "      <td>201</td>\n",
              "      <td>Hotels</td>\n",
              "      <td>13000000</td>\n",
              "      <td>74581</td>\n",
              "      <td>58700</td>\n",
              "      <td>-3.74</td>\n",
              "      <td>-3.75</td>\n",
              "      <td>0</td>\n",
              "      <td>1.000</td>\n",
              "      <td>1</td>\n",
              "    </tr>\n",
              "    <tr>\n",
              "      <th>2972</th>\n",
              "      <td>2973</td>\n",
              "      <td>EMILIA-ROMAGNA</td>\n",
              "      <td>2019</td>\n",
              "      <td>201</td>\n",
              "      <td>Hotels</td>\n",
              "      <td>1200000</td>\n",
              "      <td>713389</td>\n",
              "      <td>46250</td>\n",
              "      <td>3.75</td>\n",
              "      <td>25.68</td>\n",
              "      <td>0</td>\n",
              "      <td>1.000</td>\n",
              "      <td>1</td>\n",
              "    </tr>\n",
              "    <tr>\n",
              "      <th>2973</th>\n",
              "      <td>2974</td>\n",
              "      <td>LOMBARDIA</td>\n",
              "      <td>2018</td>\n",
              "      <td>204</td>\n",
              "      <td>BedBreakfast</td>\n",
              "      <td>140000</td>\n",
              "      <td>66064</td>\n",
              "      <td>11530</td>\n",
              "      <td>-1.78</td>\n",
              "      <td>-28.78</td>\n",
              "      <td>0</td>\n",
              "      <td>1.000</td>\n",
              "      <td>1</td>\n",
              "    </tr>\n",
              "  </tbody>\n",
              "</table>\n",
              "<p>2974 rows × 13 columns</p>\n",
              "</div>"
            ],
            "text/plain": [
              "        id          Region  ...  SalesRevenues  Employees\n",
              "0        1       LOMBARDIA  ...    3258939.000       4246\n",
              "1        2       LOMBARDIA  ...    1712869.843       1165\n",
              "2        3       LOMBARDIA  ...    1108477.225       1047\n",
              "3        4       LOMBARDIA  ...     869064.126       1162\n",
              "4        5       LOMBARDIA  ...     816012.000        976\n",
              "...    ...             ...  ...            ...        ...\n",
              "2969  2970        PIEMONTE  ...          1.000          1\n",
              "2970  2971        CAMPANIA  ...          1.000          4\n",
              "2971  2972        PIEMONTE  ...          1.000          1\n",
              "2972  2973  EMILIA-ROMAGNA  ...          1.000          1\n",
              "2973  2974       LOMBARDIA  ...          1.000          1\n",
              "\n",
              "[2974 rows x 13 columns]"
            ]
          },
          "metadata": {
            "tags": []
          },
          "execution_count": 6
        }
      ]
    },
    {
      "cell_type": "code",
      "metadata": {
        "colab": {
          "base_uri": "https://localhost:8080/"
        },
        "id": "gUuy1HrSdON9",
        "outputId": "bf5be63d-3daf-4aff-bb66-574cdd40c7f8"
      },
      "source": [
        "#print some random data\n",
        "print (df.loc[[15,99,150,209,277,567,1100,1766],['Region','Sector','NetIncome','WagesSalary']])"
      ],
      "execution_count": 7,
      "outputs": [
        {
          "output_type": "stream",
          "text": [
            "         Region        Sector  NetIncome  WagesSalary\n",
            "15     PIEMONTE    Restaurant   95356612        58660\n",
            "99        LAZIO        Hotels   38012087        59060\n",
            "150   LOMBARDIA  BedBreakfast   10699161        44620\n",
            "209      VENETO        Hotels    8243682        60880\n",
            "277     TOSCANA    Restaurant    5612657        57130\n",
            "567    PIEMONTE       BarPubs    4365984        54570\n",
            "1100     VENETO    Restaurant    2799706        48630\n",
            "1766  LOMBARDIA        Hotels     694351        13070\n"
          ],
          "name": "stdout"
        }
      ]
    },
    {
      "cell_type": "code",
      "metadata": {
        "colab": {
          "base_uri": "https://localhost:8080/"
        },
        "id": "tYzWXv7_dON-",
        "outputId": "c6fc19d7-3fc4-4e55-8b70-14b728cb35e4"
      },
      "source": [
        "#Average value of the data\n",
        "df.mean()"
      ],
      "execution_count": 8,
      "outputs": [
        {
          "output_type": "execute_result",
          "data": {
            "text/plain": [
              "id                     1.487500e+03\n",
              "YearEstablishment      2.018362e+03\n",
              "SectorCode             2.032872e+02\n",
              "ShareholdersCapital    1.876315e+06\n",
              "NetIncome              3.597378e+06\n",
              "WagesSalary            3.985297e+04\n",
              "ROA                    5.712374e+00\n",
              "ROE                    1.081617e+01\n",
              "R&D                    3.766252e+04\n",
              "SalesRevenues          1.645322e+04\n",
              "Employees              3.527034e+01\n",
              "dtype: float64"
            ]
          },
          "metadata": {
            "tags": []
          },
          "execution_count": 8
        }
      ]
    },
    {
      "cell_type": "code",
      "metadata": {
        "colab": {
          "base_uri": "https://localhost:8080/"
        },
        "id": "9sCR5mlxdON-",
        "outputId": "17dd67e3-0534-41ff-eb61-d64d0a993acf"
      },
      "source": [
        "#middle value in distribution when the values are arranged in ascending or descending order.\n",
        "df.median()"
      ],
      "execution_count": 9,
      "outputs": [
        {
          "output_type": "execute_result",
          "data": {
            "text/plain": [
              "id                       1487.500\n",
              "YearEstablishment        2019.000\n",
              "SectorCode                204.000\n",
              "ShareholdersCapital     60000.000\n",
              "NetIncome              629778.000\n",
              "WagesSalary             38520.000\n",
              "ROA                         4.625\n",
              "ROE                         9.260\n",
              "R&D                         0.000\n",
              "SalesRevenues            2499.457\n",
              "Employees                  11.000\n",
              "dtype: float64"
            ]
          },
          "metadata": {
            "tags": []
          },
          "execution_count": 9
        }
      ]
    },
    {
      "cell_type": "code",
      "metadata": {
        "colab": {
          "base_uri": "https://localhost:8080/",
          "height": 437
        },
        "id": "jwQjVEyOdON_",
        "outputId": "043c9bbe-2911-44cd-df08-5ba645a78387"
      },
      "source": [
        "#most commonly occurring value in a distribution.\n",
        "#we can see that lombardi region has most number of hotels\n",
        "df.mode()"
      ],
      "execution_count": 10,
      "outputs": [
        {
          "output_type": "execute_result",
          "data": {
            "text/html": [
              "<div>\n",
              "<style scoped>\n",
              "    .dataframe tbody tr th:only-of-type {\n",
              "        vertical-align: middle;\n",
              "    }\n",
              "\n",
              "    .dataframe tbody tr th {\n",
              "        vertical-align: top;\n",
              "    }\n",
              "\n",
              "    .dataframe thead th {\n",
              "        text-align: right;\n",
              "    }\n",
              "</style>\n",
              "<table border=\"1\" class=\"dataframe\">\n",
              "  <thead>\n",
              "    <tr style=\"text-align: right;\">\n",
              "      <th></th>\n",
              "      <th>id</th>\n",
              "      <th>Region</th>\n",
              "      <th>YearEstablishment</th>\n",
              "      <th>SectorCode</th>\n",
              "      <th>Sector</th>\n",
              "      <th>ShareholdersCapital</th>\n",
              "      <th>NetIncome</th>\n",
              "      <th>WagesSalary</th>\n",
              "      <th>ROA</th>\n",
              "      <th>ROE</th>\n",
              "      <th>R&amp;D</th>\n",
              "      <th>SalesRevenues</th>\n",
              "      <th>Employees</th>\n",
              "    </tr>\n",
              "  </thead>\n",
              "  <tbody>\n",
              "    <tr>\n",
              "      <th>0</th>\n",
              "      <td>1</td>\n",
              "      <td>LOMBARDIA</td>\n",
              "      <td>2019.0</td>\n",
              "      <td>204.0</td>\n",
              "      <td>BedBreakfast</td>\n",
              "      <td>10000.0</td>\n",
              "      <td>35204.0</td>\n",
              "      <td>34440.0</td>\n",
              "      <td>2.32</td>\n",
              "      <td>0.14</td>\n",
              "      <td>0.0</td>\n",
              "      <td>1.0</td>\n",
              "      <td>1.0</td>\n",
              "    </tr>\n",
              "    <tr>\n",
              "      <th>1</th>\n",
              "      <td>2</td>\n",
              "      <td>NaN</td>\n",
              "      <td>NaN</td>\n",
              "      <td>NaN</td>\n",
              "      <td>NaN</td>\n",
              "      <td>NaN</td>\n",
              "      <td>349678.0</td>\n",
              "      <td>NaN</td>\n",
              "      <td>NaN</td>\n",
              "      <td>7.45</td>\n",
              "      <td>NaN</td>\n",
              "      <td>NaN</td>\n",
              "      <td>NaN</td>\n",
              "    </tr>\n",
              "    <tr>\n",
              "      <th>2</th>\n",
              "      <td>3</td>\n",
              "      <td>NaN</td>\n",
              "      <td>NaN</td>\n",
              "      <td>NaN</td>\n",
              "      <td>NaN</td>\n",
              "      <td>NaN</td>\n",
              "      <td>4636318.0</td>\n",
              "      <td>NaN</td>\n",
              "      <td>NaN</td>\n",
              "      <td>NaN</td>\n",
              "      <td>NaN</td>\n",
              "      <td>NaN</td>\n",
              "      <td>NaN</td>\n",
              "    </tr>\n",
              "    <tr>\n",
              "      <th>3</th>\n",
              "      <td>4</td>\n",
              "      <td>NaN</td>\n",
              "      <td>NaN</td>\n",
              "      <td>NaN</td>\n",
              "      <td>NaN</td>\n",
              "      <td>NaN</td>\n",
              "      <td>NaN</td>\n",
              "      <td>NaN</td>\n",
              "      <td>NaN</td>\n",
              "      <td>NaN</td>\n",
              "      <td>NaN</td>\n",
              "      <td>NaN</td>\n",
              "      <td>NaN</td>\n",
              "    </tr>\n",
              "    <tr>\n",
              "      <th>4</th>\n",
              "      <td>5</td>\n",
              "      <td>NaN</td>\n",
              "      <td>NaN</td>\n",
              "      <td>NaN</td>\n",
              "      <td>NaN</td>\n",
              "      <td>NaN</td>\n",
              "      <td>NaN</td>\n",
              "      <td>NaN</td>\n",
              "      <td>NaN</td>\n",
              "      <td>NaN</td>\n",
              "      <td>NaN</td>\n",
              "      <td>NaN</td>\n",
              "      <td>NaN</td>\n",
              "    </tr>\n",
              "    <tr>\n",
              "      <th>...</th>\n",
              "      <td>...</td>\n",
              "      <td>...</td>\n",
              "      <td>...</td>\n",
              "      <td>...</td>\n",
              "      <td>...</td>\n",
              "      <td>...</td>\n",
              "      <td>...</td>\n",
              "      <td>...</td>\n",
              "      <td>...</td>\n",
              "      <td>...</td>\n",
              "      <td>...</td>\n",
              "      <td>...</td>\n",
              "      <td>...</td>\n",
              "    </tr>\n",
              "    <tr>\n",
              "      <th>2969</th>\n",
              "      <td>2970</td>\n",
              "      <td>NaN</td>\n",
              "      <td>NaN</td>\n",
              "      <td>NaN</td>\n",
              "      <td>NaN</td>\n",
              "      <td>NaN</td>\n",
              "      <td>NaN</td>\n",
              "      <td>NaN</td>\n",
              "      <td>NaN</td>\n",
              "      <td>NaN</td>\n",
              "      <td>NaN</td>\n",
              "      <td>NaN</td>\n",
              "      <td>NaN</td>\n",
              "    </tr>\n",
              "    <tr>\n",
              "      <th>2970</th>\n",
              "      <td>2971</td>\n",
              "      <td>NaN</td>\n",
              "      <td>NaN</td>\n",
              "      <td>NaN</td>\n",
              "      <td>NaN</td>\n",
              "      <td>NaN</td>\n",
              "      <td>NaN</td>\n",
              "      <td>NaN</td>\n",
              "      <td>NaN</td>\n",
              "      <td>NaN</td>\n",
              "      <td>NaN</td>\n",
              "      <td>NaN</td>\n",
              "      <td>NaN</td>\n",
              "    </tr>\n",
              "    <tr>\n",
              "      <th>2971</th>\n",
              "      <td>2972</td>\n",
              "      <td>NaN</td>\n",
              "      <td>NaN</td>\n",
              "      <td>NaN</td>\n",
              "      <td>NaN</td>\n",
              "      <td>NaN</td>\n",
              "      <td>NaN</td>\n",
              "      <td>NaN</td>\n",
              "      <td>NaN</td>\n",
              "      <td>NaN</td>\n",
              "      <td>NaN</td>\n",
              "      <td>NaN</td>\n",
              "      <td>NaN</td>\n",
              "    </tr>\n",
              "    <tr>\n",
              "      <th>2972</th>\n",
              "      <td>2973</td>\n",
              "      <td>NaN</td>\n",
              "      <td>NaN</td>\n",
              "      <td>NaN</td>\n",
              "      <td>NaN</td>\n",
              "      <td>NaN</td>\n",
              "      <td>NaN</td>\n",
              "      <td>NaN</td>\n",
              "      <td>NaN</td>\n",
              "      <td>NaN</td>\n",
              "      <td>NaN</td>\n",
              "      <td>NaN</td>\n",
              "      <td>NaN</td>\n",
              "    </tr>\n",
              "    <tr>\n",
              "      <th>2973</th>\n",
              "      <td>2974</td>\n",
              "      <td>NaN</td>\n",
              "      <td>NaN</td>\n",
              "      <td>NaN</td>\n",
              "      <td>NaN</td>\n",
              "      <td>NaN</td>\n",
              "      <td>NaN</td>\n",
              "      <td>NaN</td>\n",
              "      <td>NaN</td>\n",
              "      <td>NaN</td>\n",
              "      <td>NaN</td>\n",
              "      <td>NaN</td>\n",
              "      <td>NaN</td>\n",
              "    </tr>\n",
              "  </tbody>\n",
              "</table>\n",
              "<p>2974 rows × 13 columns</p>\n",
              "</div>"
            ],
            "text/plain": [
              "        id     Region  YearEstablishment  ...  R&D SalesRevenues  Employees\n",
              "0        1  LOMBARDIA             2019.0  ...  0.0           1.0        1.0\n",
              "1        2        NaN                NaN  ...  NaN           NaN        NaN\n",
              "2        3        NaN                NaN  ...  NaN           NaN        NaN\n",
              "3        4        NaN                NaN  ...  NaN           NaN        NaN\n",
              "4        5        NaN                NaN  ...  NaN           NaN        NaN\n",
              "...    ...        ...                ...  ...  ...           ...        ...\n",
              "2969  2970        NaN                NaN  ...  NaN           NaN        NaN\n",
              "2970  2971        NaN                NaN  ...  NaN           NaN        NaN\n",
              "2971  2972        NaN                NaN  ...  NaN           NaN        NaN\n",
              "2972  2973        NaN                NaN  ...  NaN           NaN        NaN\n",
              "2973  2974        NaN                NaN  ...  NaN           NaN        NaN\n",
              "\n",
              "[2974 rows x 13 columns]"
            ]
          },
          "metadata": {
            "tags": []
          },
          "execution_count": 10
        }
      ]
    },
    {
      "cell_type": "code",
      "metadata": {
        "colab": {
          "base_uri": "https://localhost:8080/"
        },
        "id": "CPI5rbAXdOOA",
        "outputId": "7abb9242-96af-4440-a1e2-7759b037301a"
      },
      "source": [
        "#\n",
        "df.std()"
      ],
      "execution_count": 11,
      "outputs": [
        {
          "output_type": "execute_result",
          "data": {
            "text/plain": [
              "id                     8.586642e+02\n",
              "YearEstablishment      1.289652e+00\n",
              "SectorCode             1.526398e+00\n",
              "ShareholdersCapital    2.677179e+07\n",
              "NetIncome              1.289214e+07\n",
              "WagesSalary            1.822998e+04\n",
              "ROA                    1.219308e+01\n",
              "ROE                    2.465125e+01\n",
              "R&D                    6.738295e+05\n",
              "SalesRevenues          8.324257e+04\n",
              "Employees              1.147302e+02\n",
              "dtype: float64"
            ]
          },
          "metadata": {
            "tags": []
          },
          "execution_count": 11
        }
      ]
    },
    {
      "cell_type": "code",
      "metadata": {
        "colab": {
          "base_uri": "https://localhost:8080/"
        },
        "id": "ChGDmeGQdOOA",
        "outputId": "300ec0b7-7274-4a5d-8758-5592c3aabfea"
      },
      "source": [
        "#veneto reg has the highest 2nd highest number of hotels in italy \n",
        "df.Region.value_counts()"
      ],
      "execution_count": 12,
      "outputs": [
        {
          "output_type": "execute_result",
          "data": {
            "text/plain": [
              "LOMBARDIA         1035\n",
              "VENETO             330\n",
              "EMILIA-ROMAGNA     295\n",
              "PIEMONTE           221\n",
              "TOSCANA            217\n",
              "CAMPANIA           153\n",
              "LAZIO              126\n",
              "SICILIA             99\n",
              "PUGLIA              96\n",
              "MARCHE              87\n",
              "LIGURIA             75\n",
              "ABRUZZO             57\n",
              "UMBRIA              45\n",
              "FRIULI-VENEZIA      45\n",
              "SARDEGNA            29\n",
              "TRENTINO-ALTO       29\n",
              "CALABRIA            22\n",
              "BASILICATA           8\n",
              "MOLISE               5\n",
              "Name: Region, dtype: int64"
            ]
          },
          "metadata": {
            "tags": []
          },
          "execution_count": 12
        }
      ]
    },
    {
      "cell_type": "code",
      "metadata": {
        "colab": {
          "base_uri": "https://localhost:8080/"
        },
        "id": "CwAkW5y1dOOB",
        "outputId": "3bb60449-6684-46bf-cd8d-e23f93c6b86f"
      },
      "source": [
        "#more than 50% of the hotels are established in 2019\n",
        "#around 40% were establised in 2018\n",
        "df.YearEstablishment.value_counts()"
      ],
      "execution_count": 13,
      "outputs": [
        {
          "output_type": "execute_result",
          "data": {
            "text/plain": [
              "2019    1642\n",
              "2018    1187\n",
              "2017      46\n",
              "2016      22\n",
              "2013      17\n",
              "2015      13\n",
              "2014      12\n",
              "2012       9\n",
              "2011       6\n",
              "2008       5\n",
              "2009       4\n",
              "2007       4\n",
              "2006       3\n",
              "2005       2\n",
              "2010       2\n",
              "Name: YearEstablishment, dtype: int64"
            ]
          },
          "metadata": {
            "tags": []
          },
          "execution_count": 13
        }
      ]
    },
    {
      "cell_type": "code",
      "metadata": {
        "colab": {
          "base_uri": "https://localhost:8080/"
        },
        "id": "QMCaAVNudOOB",
        "outputId": "7e28ae6f-18ed-4f60-b8d8-562e01ae5e85"
      },
      "source": [
        "df.Sector.value_counts()"
      ],
      "execution_count": 14,
      "outputs": [
        {
          "output_type": "execute_result",
          "data": {
            "text/plain": [
              "BedBreakfast    850\n",
              "Restaurant      828\n",
              "Hotels          739\n",
              "BarPubs         519\n",
              "Camping          38\n",
              "Name: Sector, dtype: int64"
            ]
          },
          "metadata": {
            "tags": []
          },
          "execution_count": 14
        }
      ]
    },
    {
      "cell_type": "code",
      "metadata": {
        "colab": {
          "base_uri": "https://localhost:8080/",
          "height": 696
        },
        "id": "u-tNdDYtdOOC",
        "outputId": "929c61dd-6f3b-45d8-c838-6a37bde2eac1"
      },
      "source": [
        "my_crosstab = pd.crosstab(index=df[\"Region\"], columns=df[\"Sector\"],margins=True)   # Include row and column totals\n",
        "\n",
        "my_crosstab"
      ],
      "execution_count": 15,
      "outputs": [
        {
          "output_type": "execute_result",
          "data": {
            "text/html": [
              "<div>\n",
              "<style scoped>\n",
              "    .dataframe tbody tr th:only-of-type {\n",
              "        vertical-align: middle;\n",
              "    }\n",
              "\n",
              "    .dataframe tbody tr th {\n",
              "        vertical-align: top;\n",
              "    }\n",
              "\n",
              "    .dataframe thead th {\n",
              "        text-align: right;\n",
              "    }\n",
              "</style>\n",
              "<table border=\"1\" class=\"dataframe\">\n",
              "  <thead>\n",
              "    <tr style=\"text-align: right;\">\n",
              "      <th>Sector</th>\n",
              "      <th>BarPubs</th>\n",
              "      <th>BedBreakfast</th>\n",
              "      <th>Camping</th>\n",
              "      <th>Hotels</th>\n",
              "      <th>Restaurant</th>\n",
              "      <th>All</th>\n",
              "    </tr>\n",
              "    <tr>\n",
              "      <th>Region</th>\n",
              "      <th></th>\n",
              "      <th></th>\n",
              "      <th></th>\n",
              "      <th></th>\n",
              "      <th></th>\n",
              "      <th></th>\n",
              "    </tr>\n",
              "  </thead>\n",
              "  <tbody>\n",
              "    <tr>\n",
              "      <th>ABRUZZO</th>\n",
              "      <td>14</td>\n",
              "      <td>13</td>\n",
              "      <td>1</td>\n",
              "      <td>17</td>\n",
              "      <td>12</td>\n",
              "      <td>57</td>\n",
              "    </tr>\n",
              "    <tr>\n",
              "      <th>BASILICATA</th>\n",
              "      <td>1</td>\n",
              "      <td>3</td>\n",
              "      <td>0</td>\n",
              "      <td>2</td>\n",
              "      <td>2</td>\n",
              "      <td>8</td>\n",
              "    </tr>\n",
              "    <tr>\n",
              "      <th>CALABRIA</th>\n",
              "      <td>4</td>\n",
              "      <td>6</td>\n",
              "      <td>0</td>\n",
              "      <td>3</td>\n",
              "      <td>9</td>\n",
              "      <td>22</td>\n",
              "    </tr>\n",
              "    <tr>\n",
              "      <th>CAMPANIA</th>\n",
              "      <td>25</td>\n",
              "      <td>45</td>\n",
              "      <td>1</td>\n",
              "      <td>40</td>\n",
              "      <td>42</td>\n",
              "      <td>153</td>\n",
              "    </tr>\n",
              "    <tr>\n",
              "      <th>EMILIA-ROMAGNA</th>\n",
              "      <td>58</td>\n",
              "      <td>82</td>\n",
              "      <td>3</td>\n",
              "      <td>80</td>\n",
              "      <td>72</td>\n",
              "      <td>295</td>\n",
              "    </tr>\n",
              "    <tr>\n",
              "      <th>FRIULI-VENEZIA</th>\n",
              "      <td>12</td>\n",
              "      <td>12</td>\n",
              "      <td>0</td>\n",
              "      <td>11</td>\n",
              "      <td>10</td>\n",
              "      <td>45</td>\n",
              "    </tr>\n",
              "    <tr>\n",
              "      <th>LAZIO</th>\n",
              "      <td>27</td>\n",
              "      <td>45</td>\n",
              "      <td>0</td>\n",
              "      <td>22</td>\n",
              "      <td>32</td>\n",
              "      <td>126</td>\n",
              "    </tr>\n",
              "    <tr>\n",
              "      <th>LIGURIA</th>\n",
              "      <td>13</td>\n",
              "      <td>34</td>\n",
              "      <td>1</td>\n",
              "      <td>9</td>\n",
              "      <td>18</td>\n",
              "      <td>75</td>\n",
              "    </tr>\n",
              "    <tr>\n",
              "      <th>LOMBARDIA</th>\n",
              "      <td>126</td>\n",
              "      <td>300</td>\n",
              "      <td>21</td>\n",
              "      <td>283</td>\n",
              "      <td>305</td>\n",
              "      <td>1035</td>\n",
              "    </tr>\n",
              "    <tr>\n",
              "      <th>MARCHE</th>\n",
              "      <td>24</td>\n",
              "      <td>29</td>\n",
              "      <td>2</td>\n",
              "      <td>15</td>\n",
              "      <td>17</td>\n",
              "      <td>87</td>\n",
              "    </tr>\n",
              "    <tr>\n",
              "      <th>MOLISE</th>\n",
              "      <td>0</td>\n",
              "      <td>0</td>\n",
              "      <td>0</td>\n",
              "      <td>1</td>\n",
              "      <td>4</td>\n",
              "      <td>5</td>\n",
              "    </tr>\n",
              "    <tr>\n",
              "      <th>PIEMONTE</th>\n",
              "      <td>53</td>\n",
              "      <td>52</td>\n",
              "      <td>2</td>\n",
              "      <td>52</td>\n",
              "      <td>62</td>\n",
              "      <td>221</td>\n",
              "    </tr>\n",
              "    <tr>\n",
              "      <th>PUGLIA</th>\n",
              "      <td>29</td>\n",
              "      <td>22</td>\n",
              "      <td>1</td>\n",
              "      <td>23</td>\n",
              "      <td>21</td>\n",
              "      <td>96</td>\n",
              "    </tr>\n",
              "    <tr>\n",
              "      <th>SARDEGNA</th>\n",
              "      <td>7</td>\n",
              "      <td>10</td>\n",
              "      <td>0</td>\n",
              "      <td>8</td>\n",
              "      <td>4</td>\n",
              "      <td>29</td>\n",
              "    </tr>\n",
              "    <tr>\n",
              "      <th>SICILIA</th>\n",
              "      <td>15</td>\n",
              "      <td>29</td>\n",
              "      <td>0</td>\n",
              "      <td>31</td>\n",
              "      <td>24</td>\n",
              "      <td>99</td>\n",
              "    </tr>\n",
              "    <tr>\n",
              "      <th>TOSCANA</th>\n",
              "      <td>30</td>\n",
              "      <td>60</td>\n",
              "      <td>1</td>\n",
              "      <td>47</td>\n",
              "      <td>79</td>\n",
              "      <td>217</td>\n",
              "    </tr>\n",
              "    <tr>\n",
              "      <th>TRENTINO-ALTO</th>\n",
              "      <td>4</td>\n",
              "      <td>8</td>\n",
              "      <td>1</td>\n",
              "      <td>7</td>\n",
              "      <td>9</td>\n",
              "      <td>29</td>\n",
              "    </tr>\n",
              "    <tr>\n",
              "      <th>UMBRIA</th>\n",
              "      <td>10</td>\n",
              "      <td>16</td>\n",
              "      <td>1</td>\n",
              "      <td>12</td>\n",
              "      <td>6</td>\n",
              "      <td>45</td>\n",
              "    </tr>\n",
              "    <tr>\n",
              "      <th>VENETO</th>\n",
              "      <td>67</td>\n",
              "      <td>84</td>\n",
              "      <td>3</td>\n",
              "      <td>76</td>\n",
              "      <td>100</td>\n",
              "      <td>330</td>\n",
              "    </tr>\n",
              "    <tr>\n",
              "      <th>All</th>\n",
              "      <td>519</td>\n",
              "      <td>850</td>\n",
              "      <td>38</td>\n",
              "      <td>739</td>\n",
              "      <td>828</td>\n",
              "      <td>2974</td>\n",
              "    </tr>\n",
              "  </tbody>\n",
              "</table>\n",
              "</div>"
            ],
            "text/plain": [
              "Sector          BarPubs  BedBreakfast  Camping  Hotels  Restaurant   All\n",
              "Region                                                                  \n",
              "ABRUZZO              14            13        1      17          12    57\n",
              "BASILICATA            1             3        0       2           2     8\n",
              "CALABRIA              4             6        0       3           9    22\n",
              "CAMPANIA             25            45        1      40          42   153\n",
              "EMILIA-ROMAGNA       58            82        3      80          72   295\n",
              "FRIULI-VENEZIA       12            12        0      11          10    45\n",
              "LAZIO                27            45        0      22          32   126\n",
              "LIGURIA              13            34        1       9          18    75\n",
              "LOMBARDIA           126           300       21     283         305  1035\n",
              "MARCHE               24            29        2      15          17    87\n",
              "MOLISE                0             0        0       1           4     5\n",
              "PIEMONTE             53            52        2      52          62   221\n",
              "PUGLIA               29            22        1      23          21    96\n",
              "SARDEGNA              7            10        0       8           4    29\n",
              "SICILIA              15            29        0      31          24    99\n",
              "TOSCANA              30            60        1      47          79   217\n",
              "TRENTINO-ALTO         4             8        1       7           9    29\n",
              "UMBRIA               10            16        1      12           6    45\n",
              "VENETO               67            84        3      76         100   330\n",
              "All                 519           850       38     739         828  2974"
            ]
          },
          "metadata": {
            "tags": []
          },
          "execution_count": 15
        }
      ]
    },
    {
      "cell_type": "code",
      "metadata": {
        "colab": {
          "base_uri": "https://localhost:8080/",
          "height": 290
        },
        "id": "_XiroP3zdOOC",
        "outputId": "ace5d0df-ce44-4823-8b0c-19295b4784a5"
      },
      "source": [
        "import matplotlib.pyplot as plt\n",
        "df.plot(x ='SectorCode', y='NetIncome', kind = 'scatter')\n",
        "plt.show()"
      ],
      "execution_count": 16,
      "outputs": [
        {
          "output_type": "display_data",
          "data": {
            "image/png": "[encoded data removed]",
            "text/plain": [
              "<Figure size 432x288 with 1 Axes>"
            ]
          },
          "metadata": {
            "tags": [],
            "needs_background": "light"
          }
        }
      ]
    },
    {
      "cell_type": "code",
      "metadata": {
        "colab": {
          "base_uri": "https://localhost:8080/",
          "height": 290
        },
        "id": "fHcFHBvtdOOD",
        "outputId": "aadfa4d0-e4b7-45f3-fa5e-a5e4b407071b"
      },
      "source": [
        "df.plot(x ='ShareholdersCapital', y='NetIncome', kind = 'line')\n",
        "plt.show()"
      ],
      "execution_count": 17,
      "outputs": [
        {
          "output_type": "display_data",
          "data": {
            "image/png": "[encoded data removed]",
            "text/plain": [
              "<Figure size 432x288 with 1 Axes>"
            ]
          },
          "metadata": {
            "tags": [],
            "needs_background": "light"
          }
        }
      ]
    },
    {
      "cell_type": "code",
      "metadata": {
        "colab": {
          "base_uri": "https://localhost:8080/",
          "height": 299
        },
        "id": "0-15xEpqdOOE",
        "outputId": "5dab5de6-3af2-4d03-fa12-3bd4bf62c697"
      },
      "source": [
        "df.plot(x ='SectorCode', y='NetIncome', kind = 'bar')\n",
        "plt.show()"
      ],
      "execution_count": 18,
      "outputs": [
        {
          "output_type": "display_data",
          "data": {
            "image/png": "[encoded data removed]",
            "text/plain": [
              "<Figure size 432x288 with 1 Axes>"
            ]
          },
          "metadata": {
            "tags": [],
            "needs_background": "light"
          }
        }
      ]
    },
    {
      "cell_type": "code",
      "metadata": {
        "colab": {
          "base_uri": "https://localhost:8080/",
          "height": 307
        },
        "id": "hI0xJKvVdOOE",
        "outputId": "0dea2ad4-6d4b-48c2-dd54-476e91ed39e1"
      },
      "source": [
        "df.plot(x=\"Region\", y=\"NetIncome\")"
      ],
      "execution_count": 19,
      "outputs": [
        {
          "output_type": "execute_result",
          "data": {
            "text/plain": [
              "<matplotlib.axes._subplots.AxesSubplot at 0x7f1eff5c7650>"
            ]
          },
          "metadata": {
            "tags": []
          },
          "execution_count": 19
        },
        {
          "output_type": "display_data",
          "data": {
            "image/png": "[encoded data removed]",
            "text/plain": [
              "<Figure size 432x288 with 1 Axes>"
            ]
          },
          "metadata": {
            "tags": [],
            "needs_background": "light"
          }
        }
      ]
    },
    {
      "cell_type": "code",
      "metadata": {
        "colab": {
          "base_uri": "https://localhost:8080/"
        },
        "id": "_oc9H5BydOOE",
        "outputId": "32ab3629-b493-4879-b23d-e4f2b9bda392"
      },
      "source": [
        "from sklearn.linear_model import LinearRegression\n",
        "import statsmodels.api as sm\n",
        "import numpy as np"
      ],
      "execution_count": 20,
      "outputs": [
        {
          "output_type": "stream",
          "text": [
            "/usr/local/lib/python3.7/dist-packages/statsmodels/tools/_testing.py:19: FutureWarning: pandas.util.testing is deprecated. Use the functions in the public API at pandas.testing instead.\n",
            "  import pandas.util.testing as tm\n"
          ],
          "name": "stderr"
        }
      ]
    },
    {
      "cell_type": "code",
      "metadata": {
        "id": "THKunNejdOOF"
      },
      "source": [
        "df['ShareholdersCapital'] = np.log(df['ShareholdersCapital'])"
      ],
      "execution_count": 21,
      "outputs": []
    },
    {
      "cell_type": "code",
      "metadata": {
        "id": "nXGMB3-zdOOF"
      },
      "source": [
        "df['WagesSalary'] = np.log(df['WagesSalary'])"
      ],
      "execution_count": 22,
      "outputs": []
    },
    {
      "cell_type": "code",
      "metadata": {
        "id": "0ZJ4AqO8dOOF"
      },
      "source": [
        "df['NetIncome'] = np.log(df['NetIncome'])"
      ],
      "execution_count": 23,
      "outputs": []
    },
    {
      "cell_type": "code",
      "metadata": {
        "id": "XvH-64mkdOOG"
      },
      "source": [
        "reg = LinearRegression(normalize=True,n_jobs=-1).fit(df[['ShareholdersCapital','WagesSalary']], df['NetIncome'])"
      ],
      "execution_count": 24,
      "outputs": []
    },
    {
      "cell_type": "code",
      "metadata": {
        "colab": {
          "base_uri": "https://localhost:8080/"
        },
        "id": "4upjlPELdOOG",
        "outputId": "e7ccb1a4-993c-45f3-c628-38b372a4a6bd"
      },
      "source": [
        "# get the slope and intercept of the line best fit.\n",
        "print(reg.intercept_)"
      ],
      "execution_count": 25,
      "outputs": [
        {
          "output_type": "stream",
          "text": [
            "-2.381993485656899\n"
          ],
          "name": "stdout"
        }
      ]
    },
    {
      "cell_type": "code",
      "metadata": {
        "colab": {
          "base_uri": "https://localhost:8080/"
        },
        "id": "-M8IRA06dOOG",
        "outputId": "6029507f-10a7-4fda-904d-3fc6ee064490"
      },
      "source": [
        "print(reg.coef_)"
      ],
      "execution_count": 26,
      "outputs": [
        {
          "output_type": "stream",
          "text": [
            "[0.44116822 1.03284267]\n"
          ],
          "name": "stdout"
        }
      ]
    },
    {
      "cell_type": "code",
      "metadata": {
        "colab": {
          "base_uri": "https://localhost:8080/"
        },
        "id": "Oill2AqgdOOH",
        "outputId": "2193d575-417f-4b96-9998-0d82fc8e6a97"
      },
      "source": [
        "# with statsmodels\n",
        "df = sm.add_constant(df) # adding a constant\n",
        " \n",
        "model = sm.OLS(df['NetIncome'], df[['ShareholdersCapital','WagesSalary']]).fit()\n",
        "predictions = model.predict(df[['ShareholdersCapital','WagesSalary']]) \n",
        " \n",
        "print_model = model.summary()\n",
        "print(print_model)"
      ],
      "execution_count": 27,
      "outputs": [
        {
          "output_type": "stream",
          "text": [
            "                                 OLS Regression Results                                \n",
            "=======================================================================================\n",
            "Dep. Variable:              NetIncome   R-squared (uncentered):                   0.992\n",
            "Model:                            OLS   Adj. R-squared (uncentered):              0.992\n",
            "Method:                 Least Squares   F-statistic:                          1.922e+05\n",
            "Date:                Tue, 29 Jun 2021   Prob (F-statistic):                        0.00\n",
            "Time:                        16:31:33   Log-Likelihood:                         -4720.6\n",
            "No. Observations:                2974   AIC:                                      9445.\n",
            "Df Residuals:                    2972   BIC:                                      9457.\n",
            "Df Model:                           2                                                  \n",
            "Covariance Type:            nonrobust                                                  \n",
            "=======================================================================================\n",
            "                          coef    std err          t      P>|t|      [0.025      0.975]\n",
            "---------------------------------------------------------------------------------------\n",
            "ShareholdersCapital     0.4472      0.011     40.951      0.000       0.426       0.469\n",
            "WagesSalary             0.7990      0.012     66.386      0.000       0.775       0.823\n",
            "==============================================================================\n",
            "Omnibus:                      400.143   Durbin-Watson:                   1.263\n",
            "Prob(Omnibus):                  0.000   Jarque-Bera (JB):             1449.101\n",
            "Skew:                          -0.644   Prob(JB):                         0.00\n",
            "Kurtosis:                       6.168   Cond. No.                         11.6\n",
            "==============================================================================\n",
            "\n",
            "Warnings:\n",
            "[1] Standard Errors assume that the covariance matrix of the errors is correctly specified.\n"
          ],
          "name": "stdout"
        }
      ]
    },
    {
      "cell_type": "code",
      "metadata": {
        "id": "X8yubDxcdOOH"
      },
      "source": [
        "df.Region, mapping_index = pd.Series(df.Region).factorize()"
      ],
      "execution_count": 28,
      "outputs": []
    },
    {
      "cell_type": "code",
      "metadata": {
        "colab": {
          "base_uri": "https://localhost:8080/",
          "height": 437
        },
        "id": "5i-6QdYXdOOI",
        "outputId": "ef56856e-f7a9-4c60-f101-e5f39399de8f"
      },
      "source": [
        "df"
      ],
      "execution_count": 29,
      "outputs": [
        {
          "output_type": "execute_result",
          "data": {
            "text/html": [
              "<div>\n",
              "<style scoped>\n",
              "    .dataframe tbody tr th:only-of-type {\n",
              "        vertical-align: middle;\n",
              "    }\n",
              "\n",
              "    .dataframe tbody tr th {\n",
              "        vertical-align: top;\n",
              "    }\n",
              "\n",
              "    .dataframe thead th {\n",
              "        text-align: right;\n",
              "    }\n",
              "</style>\n",
              "<table border=\"1\" class=\"dataframe\">\n",
              "  <thead>\n",
              "    <tr style=\"text-align: right;\">\n",
              "      <th></th>\n",
              "      <th>const</th>\n",
              "      <th>id</th>\n",
              "      <th>Region</th>\n",
              "      <th>YearEstablishment</th>\n",
              "      <th>SectorCode</th>\n",
              "      <th>Sector</th>\n",
              "      <th>ShareholdersCapital</th>\n",
              "      <th>NetIncome</th>\n",
              "      <th>WagesSalary</th>\n",
              "      <th>ROA</th>\n",
              "      <th>ROE</th>\n",
              "      <th>R&amp;D</th>\n",
              "      <th>SalesRevenues</th>\n",
              "      <th>Employees</th>\n",
              "    </tr>\n",
              "  </thead>\n",
              "  <tbody>\n",
              "    <tr>\n",
              "      <th>0</th>\n",
              "      <td>1.0</td>\n",
              "      <td>1</td>\n",
              "      <td>0</td>\n",
              "      <td>2019</td>\n",
              "      <td>201</td>\n",
              "      <td>Hotels</td>\n",
              "      <td>21.034266</td>\n",
              "      <td>15.981703</td>\n",
              "      <td>11.158534</td>\n",
              "      <td>-18.25</td>\n",
              "      <td>-55.70</td>\n",
              "      <td>0</td>\n",
              "      <td>3258939.000</td>\n",
              "      <td>4246</td>\n",
              "    </tr>\n",
              "    <tr>\n",
              "      <th>1</th>\n",
              "      <td>1.0</td>\n",
              "      <td>2</td>\n",
              "      <td>0</td>\n",
              "      <td>2019</td>\n",
              "      <td>205</td>\n",
              "      <td>Restaurant</td>\n",
              "      <td>18.420681</td>\n",
              "      <td>18.912182</td>\n",
              "      <td>11.269579</td>\n",
              "      <td>6.10</td>\n",
              "      <td>6.46</td>\n",
              "      <td>0</td>\n",
              "      <td>1712869.843</td>\n",
              "      <td>1165</td>\n",
              "    </tr>\n",
              "    <tr>\n",
              "      <th>2</th>\n",
              "      <td>1.0</td>\n",
              "      <td>3</td>\n",
              "      <td>0</td>\n",
              "      <td>2019</td>\n",
              "      <td>201</td>\n",
              "      <td>Hotels</td>\n",
              "      <td>19.008467</td>\n",
              "      <td>19.621439</td>\n",
              "      <td>11.322249</td>\n",
              "      <td>24.83</td>\n",
              "      <td>50.91</td>\n",
              "      <td>0</td>\n",
              "      <td>1108477.225</td>\n",
              "      <td>1047</td>\n",
              "    </tr>\n",
              "    <tr>\n",
              "      <th>3</th>\n",
              "      <td>1.0</td>\n",
              "      <td>4</td>\n",
              "      <td>0</td>\n",
              "      <td>2019</td>\n",
              "      <td>204</td>\n",
              "      <td>BedBreakfast</td>\n",
              "      <td>14.334185</td>\n",
              "      <td>18.951801</td>\n",
              "      <td>11.434856</td>\n",
              "      <td>14.23</td>\n",
              "      <td>31.11</td>\n",
              "      <td>0</td>\n",
              "      <td>869064.126</td>\n",
              "      <td>1162</td>\n",
              "    </tr>\n",
              "    <tr>\n",
              "      <th>4</th>\n",
              "      <td>1.0</td>\n",
              "      <td>5</td>\n",
              "      <td>0</td>\n",
              "      <td>2019</td>\n",
              "      <td>201</td>\n",
              "      <td>Hotels</td>\n",
              "      <td>19.740266</td>\n",
              "      <td>19.395670</td>\n",
              "      <td>11.287655</td>\n",
              "      <td>11.97</td>\n",
              "      <td>10.92</td>\n",
              "      <td>15773000</td>\n",
              "      <td>816012.000</td>\n",
              "      <td>976</td>\n",
              "    </tr>\n",
              "    <tr>\n",
              "      <th>...</th>\n",
              "      <td>...</td>\n",
              "      <td>...</td>\n",
              "      <td>...</td>\n",
              "      <td>...</td>\n",
              "      <td>...</td>\n",
              "      <td>...</td>\n",
              "      <td>...</td>\n",
              "      <td>...</td>\n",
              "      <td>...</td>\n",
              "      <td>...</td>\n",
              "      <td>...</td>\n",
              "      <td>...</td>\n",
              "      <td>...</td>\n",
              "      <td>...</td>\n",
              "    </tr>\n",
              "    <tr>\n",
              "      <th>2969</th>\n",
              "      <td>1.0</td>\n",
              "      <td>2970</td>\n",
              "      <td>3</td>\n",
              "      <td>2018</td>\n",
              "      <td>204</td>\n",
              "      <td>BedBreakfast</td>\n",
              "      <td>12.206073</td>\n",
              "      <td>10.494796</td>\n",
              "      <td>9.623774</td>\n",
              "      <td>-5.94</td>\n",
              "      <td>-37.49</td>\n",
              "      <td>0</td>\n",
              "      <td>1.000</td>\n",
              "      <td>1</td>\n",
              "    </tr>\n",
              "    <tr>\n",
              "      <th>2970</th>\n",
              "      <td>1.0</td>\n",
              "      <td>2971</td>\n",
              "      <td>14</td>\n",
              "      <td>2017</td>\n",
              "      <td>203</td>\n",
              "      <td>BarPubs</td>\n",
              "      <td>9.210340</td>\n",
              "      <td>8.698848</td>\n",
              "      <td>6.813445</td>\n",
              "      <td>0.08</td>\n",
              "      <td>15.30</td>\n",
              "      <td>0</td>\n",
              "      <td>1.000</td>\n",
              "      <td>4</td>\n",
              "    </tr>\n",
              "    <tr>\n",
              "      <th>2971</th>\n",
              "      <td>1.0</td>\n",
              "      <td>2972</td>\n",
              "      <td>3</td>\n",
              "      <td>2019</td>\n",
              "      <td>201</td>\n",
              "      <td>Hotels</td>\n",
              "      <td>16.380460</td>\n",
              "      <td>11.219641</td>\n",
              "      <td>10.980195</td>\n",
              "      <td>-3.74</td>\n",
              "      <td>-3.75</td>\n",
              "      <td>0</td>\n",
              "      <td>1.000</td>\n",
              "      <td>1</td>\n",
              "    </tr>\n",
              "    <tr>\n",
              "      <th>2972</th>\n",
              "      <td>1.0</td>\n",
              "      <td>2973</td>\n",
              "      <td>4</td>\n",
              "      <td>2019</td>\n",
              "      <td>201</td>\n",
              "      <td>Hotels</td>\n",
              "      <td>13.997832</td>\n",
              "      <td>13.477782</td>\n",
              "      <td>10.741817</td>\n",
              "      <td>3.75</td>\n",
              "      <td>25.68</td>\n",
              "      <td>0</td>\n",
              "      <td>1.000</td>\n",
              "      <td>1</td>\n",
              "    </tr>\n",
              "    <tr>\n",
              "      <th>2973</th>\n",
              "      <td>1.0</td>\n",
              "      <td>2974</td>\n",
              "      <td>0</td>\n",
              "      <td>2018</td>\n",
              "      <td>204</td>\n",
              "      <td>BedBreakfast</td>\n",
              "      <td>11.849398</td>\n",
              "      <td>11.098379</td>\n",
              "      <td>9.352708</td>\n",
              "      <td>-1.78</td>\n",
              "      <td>-28.78</td>\n",
              "      <td>0</td>\n",
              "      <td>1.000</td>\n",
              "      <td>1</td>\n",
              "    </tr>\n",
              "  </tbody>\n",
              "</table>\n",
              "<p>2974 rows × 14 columns</p>\n",
              "</div>"
            ],
            "text/plain": [
              "      const    id  Region  ...       R&D  SalesRevenues Employees\n",
              "0       1.0     1       0  ...         0    3258939.000      4246\n",
              "1       1.0     2       0  ...         0    1712869.843      1165\n",
              "2       1.0     3       0  ...         0    1108477.225      1047\n",
              "3       1.0     4       0  ...         0     869064.126      1162\n",
              "4       1.0     5       0  ...  15773000     816012.000       976\n",
              "...     ...   ...     ...  ...       ...            ...       ...\n",
              "2969    1.0  2970       3  ...         0          1.000         1\n",
              "2970    1.0  2971      14  ...         0          1.000         4\n",
              "2971    1.0  2972       3  ...         0          1.000         1\n",
              "2972    1.0  2973       4  ...         0          1.000         1\n",
              "2973    1.0  2974       0  ...         0          1.000         1\n",
              "\n",
              "[2974 rows x 14 columns]"
            ]
          },
          "metadata": {
            "tags": []
          },
          "execution_count": 29
        }
      ]
    },
    {
      "cell_type": "code",
      "metadata": {
        "colab": {
          "base_uri": "https://localhost:8080/"
        },
        "id": "fy0OcVGrdOOI",
        "outputId": "db885065-6e37-4192-f31b-a222bebe3240"
      },
      "source": [
        "mapping_index"
      ],
      "execution_count": 30,
      "outputs": [
        {
          "output_type": "execute_result",
          "data": {
            "text/plain": [
              "Index(['LOMBARDIA', 'TRENTINO-ALTO', 'TOSCANA', 'PIEMONTE', 'EMILIA-ROMAGNA',\n",
              "       'PUGLIA', 'SARDEGNA', 'MARCHE', 'VENETO', 'ABRUZZO', 'LAZIO', 'LIGURIA',\n",
              "       'UMBRIA', 'FRIULI-VENEZIA', 'CAMPANIA', 'SICILIA', 'CALABRIA',\n",
              "       'BASILICATA', 'MOLISE'],\n",
              "      dtype='object')"
            ]
          },
          "metadata": {
            "tags": []
          },
          "execution_count": 30
        }
      ]
    },
    {
      "cell_type": "code",
      "metadata": {
        "id": "-ywjLukqdOOI"
      },
      "source": [
        "reg_with_Region = LinearRegression(n_jobs=-1).fit(df[['ShareholdersCapital','WagesSalary','Region']], df['NetIncome'])"
      ],
      "execution_count": 31,
      "outputs": []
    },
    {
      "cell_type": "code",
      "metadata": {
        "colab": {
          "base_uri": "https://localhost:8080/"
        },
        "id": "Q6fw_jzldOOJ",
        "outputId": "c1eabc51-0364-4234-ebc9-20dee051867f"
      },
      "source": [
        "print(reg_with_Region.intercept_)"
      ],
      "execution_count": 32,
      "outputs": [
        {
          "output_type": "stream",
          "text": [
            "-1.6903362013293641\n"
          ],
          "name": "stdout"
        }
      ]
    },
    {
      "cell_type": "code",
      "metadata": {
        "colab": {
          "base_uri": "https://localhost:8080/"
        },
        "id": "symq-XIJdOOJ",
        "outputId": "74c48b80-4254-41ad-bfda-d0b3834467ba"
      },
      "source": [
        "print(reg_with_Region.coef_)"
      ],
      "execution_count": 33,
      "outputs": [
        {
          "output_type": "stream",
          "text": [
            "[ 0.43896828  0.98345839 -0.03195339]\n"
          ],
          "name": "stdout"
        }
      ]
    },
    {
      "cell_type": "code",
      "metadata": {
        "colab": {
          "base_uri": "https://localhost:8080/"
        },
        "id": "tyeRL0w7dOOJ",
        "outputId": "03016ea9-7937-4cfa-e0d5-5549ff389e19"
      },
      "source": [
        "# with statsmodels\n",
        "#df = sm.add_constant(df) # adding a constant\n",
        " \n",
        "modelRegion = sm.OLS(df['NetIncome'], df[['ShareholdersCapital','WagesSalary','Region']]).fit()\n",
        "predictions = modelRegion.predict(df[['ShareholdersCapital','WagesSalary','Region']]) \n",
        " \n",
        "print_modelRegion = modelRegion.summary()\n",
        "print(print_modelRegion)"
      ],
      "execution_count": 34,
      "outputs": [
        {
          "output_type": "stream",
          "text": [
            "                                 OLS Regression Results                                \n",
            "=======================================================================================\n",
            "Dep. Variable:              NetIncome   R-squared (uncentered):                   0.993\n",
            "Model:                            OLS   Adj. R-squared (uncentered):              0.993\n",
            "Method:                 Least Squares   F-statistic:                          1.319e+05\n",
            "Date:                Tue, 29 Jun 2021   Prob (F-statistic):                        0.00\n",
            "Time:                        16:31:33   Log-Likelihood:                         -4678.0\n",
            "No. Observations:                2974   AIC:                                      9362.\n",
            "Df Residuals:                    2971   BIC:                                      9380.\n",
            "Df Model:                           3                                                  \n",
            "Covariance Type:            nonrobust                                                  \n",
            "=======================================================================================\n",
            "                          coef    std err          t      P>|t|      [0.025      0.975]\n",
            "---------------------------------------------------------------------------------------\n",
            "ShareholdersCapital     0.4423      0.011     41.028      0.000       0.421       0.463\n",
            "WagesSalary             0.8221      0.012     67.809      0.000       0.798       0.846\n",
            "Region                 -0.0398      0.004     -9.292      0.000      -0.048      -0.031\n",
            "==============================================================================\n",
            "Omnibus:                      397.903   Durbin-Watson:                   1.365\n",
            "Prob(Omnibus):                  0.000   Jarque-Bera (JB):             1483.520\n",
            "Skew:                          -0.632   Prob(JB):                         0.00\n",
            "Kurtosis:                       6.221   Cond. No.                         12.2\n",
            "==============================================================================\n",
            "\n",
            "Warnings:\n",
            "[1] Standard Errors assume that the covariance matrix of the errors is correctly specified.\n"
          ],
          "name": "stdout"
        }
      ]
    },
    {
      "cell_type": "code",
      "metadata": {
        "id": "3S_Vi3QedOOK"
      },
      "source": [
        "YrEstablh_till2018 = df[df['YearEstablishment']<=2018]"
      ],
      "execution_count": 35,
      "outputs": []
    },
    {
      "cell_type": "code",
      "metadata": {
        "colab": {
          "base_uri": "https://localhost:8080/",
          "height": 437
        },
        "id": "i1B3Xs27dOOK",
        "outputId": "4b094aa6-d4cd-40df-8f4f-0237873e520d"
      },
      "source": [
        "YrEstablh_till2018"
      ],
      "execution_count": 36,
      "outputs": [
        {
          "output_type": "execute_result",
          "data": {
            "text/html": [
              "<div>\n",
              "<style scoped>\n",
              "    .dataframe tbody tr th:only-of-type {\n",
              "        vertical-align: middle;\n",
              "    }\n",
              "\n",
              "    .dataframe tbody tr th {\n",
              "        vertical-align: top;\n",
              "    }\n",
              "\n",
              "    .dataframe thead th {\n",
              "        text-align: right;\n",
              "    }\n",
              "</style>\n",
              "<table border=\"1\" class=\"dataframe\">\n",
              "  <thead>\n",
              "    <tr style=\"text-align: right;\">\n",
              "      <th></th>\n",
              "      <th>const</th>\n",
              "      <th>id</th>\n",
              "      <th>Region</th>\n",
              "      <th>YearEstablishment</th>\n",
              "      <th>SectorCode</th>\n",
              "      <th>Sector</th>\n",
              "      <th>ShareholdersCapital</th>\n",
              "      <th>NetIncome</th>\n",
              "      <th>WagesSalary</th>\n",
              "      <th>ROA</th>\n",
              "      <th>ROE</th>\n",
              "      <th>R&amp;D</th>\n",
              "      <th>SalesRevenues</th>\n",
              "      <th>Employees</th>\n",
              "    </tr>\n",
              "  </thead>\n",
              "  <tbody>\n",
              "    <tr>\n",
              "      <th>7</th>\n",
              "      <td>1.0</td>\n",
              "      <td>8</td>\n",
              "      <td>0</td>\n",
              "      <td>2018</td>\n",
              "      <td>203</td>\n",
              "      <td>BarPubs</td>\n",
              "      <td>18.420681</td>\n",
              "      <td>18.684095</td>\n",
              "      <td>11.306393</td>\n",
              "      <td>-0.34</td>\n",
              "      <td>9.94</td>\n",
              "      <td>0</td>\n",
              "      <td>520250.091</td>\n",
              "      <td>1446</td>\n",
              "    </tr>\n",
              "    <tr>\n",
              "      <th>9</th>\n",
              "      <td>1.0</td>\n",
              "      <td>10</td>\n",
              "      <td>0</td>\n",
              "      <td>2016</td>\n",
              "      <td>201</td>\n",
              "      <td>Hotels</td>\n",
              "      <td>17.766754</td>\n",
              "      <td>17.205344</td>\n",
              "      <td>10.631278</td>\n",
              "      <td>6.06</td>\n",
              "      <td>26.69</td>\n",
              "      <td>0</td>\n",
              "      <td>456380.000</td>\n",
              "      <td>91</td>\n",
              "    </tr>\n",
              "    <tr>\n",
              "      <th>11</th>\n",
              "      <td>1.0</td>\n",
              "      <td>12</td>\n",
              "      <td>0</td>\n",
              "      <td>2018</td>\n",
              "      <td>201</td>\n",
              "      <td>Hotels</td>\n",
              "      <td>15.533408</td>\n",
              "      <td>18.039689</td>\n",
              "      <td>11.215866</td>\n",
              "      <td>5.10</td>\n",
              "      <td>5.75</td>\n",
              "      <td>0</td>\n",
              "      <td>416620.406</td>\n",
              "      <td>453</td>\n",
              "    </tr>\n",
              "    <tr>\n",
              "      <th>13</th>\n",
              "      <td>1.0</td>\n",
              "      <td>14</td>\n",
              "      <td>0</td>\n",
              "      <td>2018</td>\n",
              "      <td>203</td>\n",
              "      <td>BarPubs</td>\n",
              "      <td>16.157316</td>\n",
              "      <td>18.169188</td>\n",
              "      <td>11.142586</td>\n",
              "      <td>13.15</td>\n",
              "      <td>14.88</td>\n",
              "      <td>0</td>\n",
              "      <td>337918.414</td>\n",
              "      <td>619</td>\n",
              "    </tr>\n",
              "    <tr>\n",
              "      <th>19</th>\n",
              "      <td>1.0</td>\n",
              "      <td>20</td>\n",
              "      <td>4</td>\n",
              "      <td>2018</td>\n",
              "      <td>205</td>\n",
              "      <td>Restaurant</td>\n",
              "      <td>14.508658</td>\n",
              "      <td>18.378287</td>\n",
              "      <td>11.090568</td>\n",
              "      <td>10.18</td>\n",
              "      <td>6.69</td>\n",
              "      <td>0</td>\n",
              "      <td>282578.393</td>\n",
              "      <td>600</td>\n",
              "    </tr>\n",
              "    <tr>\n",
              "      <th>...</th>\n",
              "      <td>...</td>\n",
              "      <td>...</td>\n",
              "      <td>...</td>\n",
              "      <td>...</td>\n",
              "      <td>...</td>\n",
              "      <td>...</td>\n",
              "      <td>...</td>\n",
              "      <td>...</td>\n",
              "      <td>...</td>\n",
              "      <td>...</td>\n",
              "      <td>...</td>\n",
              "      <td>...</td>\n",
              "      <td>...</td>\n",
              "      <td>...</td>\n",
              "    </tr>\n",
              "    <tr>\n",
              "      <th>2967</th>\n",
              "      <td>1.0</td>\n",
              "      <td>2968</td>\n",
              "      <td>10</td>\n",
              "      <td>2014</td>\n",
              "      <td>201</td>\n",
              "      <td>Hotels</td>\n",
              "      <td>9.210340</td>\n",
              "      <td>10.198282</td>\n",
              "      <td>9.220291</td>\n",
              "      <td>-6.71</td>\n",
              "      <td>-8.85</td>\n",
              "      <td>0</td>\n",
              "      <td>1.000</td>\n",
              "      <td>1</td>\n",
              "    </tr>\n",
              "    <tr>\n",
              "      <th>2968</th>\n",
              "      <td>1.0</td>\n",
              "      <td>2969</td>\n",
              "      <td>0</td>\n",
              "      <td>2018</td>\n",
              "      <td>204</td>\n",
              "      <td>BedBreakfast</td>\n",
              "      <td>9.210340</td>\n",
              "      <td>11.988731</td>\n",
              "      <td>10.012342</td>\n",
              "      <td>-3.36</td>\n",
              "      <td>NaN</td>\n",
              "      <td>0</td>\n",
              "      <td>1.000</td>\n",
              "      <td>2</td>\n",
              "    </tr>\n",
              "    <tr>\n",
              "      <th>2969</th>\n",
              "      <td>1.0</td>\n",
              "      <td>2970</td>\n",
              "      <td>3</td>\n",
              "      <td>2018</td>\n",
              "      <td>204</td>\n",
              "      <td>BedBreakfast</td>\n",
              "      <td>12.206073</td>\n",
              "      <td>10.494796</td>\n",
              "      <td>9.623774</td>\n",
              "      <td>-5.94</td>\n",
              "      <td>-37.49</td>\n",
              "      <td>0</td>\n",
              "      <td>1.000</td>\n",
              "      <td>1</td>\n",
              "    </tr>\n",
              "    <tr>\n",
              "      <th>2970</th>\n",
              "      <td>1.0</td>\n",
              "      <td>2971</td>\n",
              "      <td>14</td>\n",
              "      <td>2017</td>\n",
              "      <td>203</td>\n",
              "      <td>BarPubs</td>\n",
              "      <td>9.210340</td>\n",
              "      <td>8.698848</td>\n",
              "      <td>6.813445</td>\n",
              "      <td>0.08</td>\n",
              "      <td>15.30</td>\n",
              "      <td>0</td>\n",
              "      <td>1.000</td>\n",
              "      <td>4</td>\n",
              "    </tr>\n",
              "    <tr>\n",
              "      <th>2973</th>\n",
              "      <td>1.0</td>\n",
              "      <td>2974</td>\n",
              "      <td>0</td>\n",
              "      <td>2018</td>\n",
              "      <td>204</td>\n",
              "      <td>BedBreakfast</td>\n",
              "      <td>11.849398</td>\n",
              "      <td>11.098379</td>\n",
              "      <td>9.352708</td>\n",
              "      <td>-1.78</td>\n",
              "      <td>-28.78</td>\n",
              "      <td>0</td>\n",
              "      <td>1.000</td>\n",
              "      <td>1</td>\n",
              "    </tr>\n",
              "  </tbody>\n",
              "</table>\n",
              "<p>1332 rows × 14 columns</p>\n",
              "</div>"
            ],
            "text/plain": [
              "      const    id  Region  ...  R&D  SalesRevenues Employees\n",
              "7       1.0     8       0  ...    0     520250.091      1446\n",
              "9       1.0    10       0  ...    0     456380.000        91\n",
              "11      1.0    12       0  ...    0     416620.406       453\n",
              "13      1.0    14       0  ...    0     337918.414       619\n",
              "19      1.0    20       4  ...    0     282578.393       600\n",
              "...     ...   ...     ...  ...  ...            ...       ...\n",
              "2967    1.0  2968      10  ...    0          1.000         1\n",
              "2968    1.0  2969       0  ...    0          1.000         2\n",
              "2969    1.0  2970       3  ...    0          1.000         1\n",
              "2970    1.0  2971      14  ...    0          1.000         4\n",
              "2973    1.0  2974       0  ...    0          1.000         1\n",
              "\n",
              "[1332 rows x 14 columns]"
            ]
          },
          "metadata": {
            "tags": []
          },
          "execution_count": 36
        }
      ]
    },
    {
      "cell_type": "code",
      "metadata": {
        "id": "Q0UXwkeBdOOK"
      },
      "source": [
        "reg_Region_YrEst_till2018 = LinearRegression(n_jobs=-1).fit(YrEstablh_till2018[['ShareholdersCapital','WagesSalary','Region']], YrEstablh_till2018['NetIncome'])"
      ],
      "execution_count": 37,
      "outputs": []
    },
    {
      "cell_type": "code",
      "metadata": {
        "colab": {
          "base_uri": "https://localhost:8080/"
        },
        "id": "_V8xJxD9dOOL",
        "outputId": "3bc559cf-9c8f-4e33-869b-15bbaa721bdb"
      },
      "source": [
        "print(reg_Region_YrEst_till2018.intercept_)"
      ],
      "execution_count": 38,
      "outputs": [
        {
          "output_type": "stream",
          "text": [
            "-1.0609990761773442\n"
          ],
          "name": "stdout"
        }
      ]
    },
    {
      "cell_type": "code",
      "metadata": {
        "colab": {
          "base_uri": "https://localhost:8080/"
        },
        "id": "afyIqaS_dOOL",
        "outputId": "831cef55-4d46-4ba4-b67d-8fca730752ab"
      },
      "source": [
        "print(reg_Region_YrEst_till2018.coef_)"
      ],
      "execution_count": 39,
      "outputs": [
        {
          "output_type": "stream",
          "text": [
            "[ 0.41168587  0.94317279 -0.03281923]\n"
          ],
          "name": "stdout"
        }
      ]
    },
    {
      "cell_type": "code",
      "metadata": {
        "colab": {
          "base_uri": "https://localhost:8080/"
        },
        "id": "3SQwgozZdOOL",
        "outputId": "7825cbf0-12ce-4b01-abc9-373bb1a4d2f3"
      },
      "source": [
        "# with statsmodels\n",
        "#df = sm.add_constant(df) # adding a constant\n",
        " \n",
        "modelRegion_till2018 = sm.OLS(YrEstablh_till2018['NetIncome'], YrEstablh_till2018[['ShareholdersCapital','WagesSalary','Region']]).fit()\n",
        "predictions = modelRegion_till2018.predict(YrEstablh_till2018[['ShareholdersCapital','WagesSalary','Region']]) \n",
        " \n",
        "print_modelRegion_till2018 = modelRegion_till2018.summary()\n",
        "print(print_modelRegion_till2018)"
      ],
      "execution_count": 40,
      "outputs": [
        {
          "output_type": "stream",
          "text": [
            "                                 OLS Regression Results                                \n",
            "=======================================================================================\n",
            "Dep. Variable:              NetIncome   R-squared (uncentered):                   0.991\n",
            "Model:                            OLS   Adj. R-squared (uncentered):              0.991\n",
            "Method:                 Least Squares   F-statistic:                          4.947e+04\n",
            "Date:                Tue, 29 Jun 2021   Prob (F-statistic):                        0.00\n",
            "Time:                        16:31:34   Log-Likelihood:                         -2168.8\n",
            "No. Observations:                1332   AIC:                                      4344.\n",
            "Df Residuals:                    1329   BIC:                                      4359.\n",
            "Df Model:                           3                                                  \n",
            "Covariance Type:            nonrobust                                                  \n",
            "=======================================================================================\n",
            "                          coef    std err          t      P>|t|      [0.025      0.975]\n",
            "---------------------------------------------------------------------------------------\n",
            "ShareholdersCapital     0.4113      0.017     23.566      0.000       0.377       0.446\n",
            "WagesSalary             0.8436      0.019     43.412      0.000       0.805       0.882\n",
            "Region                 -0.0381      0.007     -5.824      0.000      -0.051      -0.025\n",
            "==============================================================================\n",
            "Omnibus:                      214.311   Durbin-Watson:                   1.369\n",
            "Prob(Omnibus):                  0.000   Jarque-Bera (JB):              737.569\n",
            "Skew:                          -0.770   Prob(JB):                    6.90e-161\n",
            "Kurtosis:                       6.305   Cond. No.                         12.4\n",
            "==============================================================================\n",
            "\n",
            "Warnings:\n",
            "[1] Standard Errors assume that the covariance matrix of the errors is correctly specified.\n"
          ],
          "name": "stdout"
        }
      ]
    },
    {
      "cell_type": "code",
      "metadata": {
        "id": "wznxE3ALdOOM"
      },
      "source": [
        "YrEstablh_after2018 = df[df['YearEstablishment']>2018]"
      ],
      "execution_count": 41,
      "outputs": []
    },
    {
      "cell_type": "code",
      "metadata": {
        "colab": {
          "base_uri": "https://localhost:8080/",
          "height": 437
        },
        "id": "zuy7XRgVdOOM",
        "outputId": "49652cca-bd56-4cdf-d59a-40afcd1595a4"
      },
      "source": [
        "YrEstablh_after2018"
      ],
      "execution_count": 42,
      "outputs": [
        {
          "output_type": "execute_result",
          "data": {
            "text/html": [
              "<div>\n",
              "<style scoped>\n",
              "    .dataframe tbody tr th:only-of-type {\n",
              "        vertical-align: middle;\n",
              "    }\n",
              "\n",
              "    .dataframe tbody tr th {\n",
              "        vertical-align: top;\n",
              "    }\n",
              "\n",
              "    .dataframe thead th {\n",
              "        text-align: right;\n",
              "    }\n",
              "</style>\n",
              "<table border=\"1\" class=\"dataframe\">\n",
              "  <thead>\n",
              "    <tr style=\"text-align: right;\">\n",
              "      <th></th>\n",
              "      <th>const</th>\n",
              "      <th>id</th>\n",
              "      <th>Region</th>\n",
              "      <th>YearEstablishment</th>\n",
              "      <th>SectorCode</th>\n",
              "      <th>Sector</th>\n",
              "      <th>ShareholdersCapital</th>\n",
              "      <th>NetIncome</th>\n",
              "      <th>WagesSalary</th>\n",
              "      <th>ROA</th>\n",
              "      <th>ROE</th>\n",
              "      <th>R&amp;D</th>\n",
              "      <th>SalesRevenues</th>\n",
              "      <th>Employees</th>\n",
              "    </tr>\n",
              "  </thead>\n",
              "  <tbody>\n",
              "    <tr>\n",
              "      <th>0</th>\n",
              "      <td>1.0</td>\n",
              "      <td>1</td>\n",
              "      <td>0</td>\n",
              "      <td>2019</td>\n",
              "      <td>201</td>\n",
              "      <td>Hotels</td>\n",
              "      <td>21.034266</td>\n",
              "      <td>15.981703</td>\n",
              "      <td>11.158534</td>\n",
              "      <td>-18.25</td>\n",
              "      <td>-55.70</td>\n",
              "      <td>0</td>\n",
              "      <td>3258939.000</td>\n",
              "      <td>4246</td>\n",
              "    </tr>\n",
              "    <tr>\n",
              "      <th>1</th>\n",
              "      <td>1.0</td>\n",
              "      <td>2</td>\n",
              "      <td>0</td>\n",
              "      <td>2019</td>\n",
              "      <td>205</td>\n",
              "      <td>Restaurant</td>\n",
              "      <td>18.420681</td>\n",
              "      <td>18.912182</td>\n",
              "      <td>11.269579</td>\n",
              "      <td>6.10</td>\n",
              "      <td>6.46</td>\n",
              "      <td>0</td>\n",
              "      <td>1712869.843</td>\n",
              "      <td>1165</td>\n",
              "    </tr>\n",
              "    <tr>\n",
              "      <th>2</th>\n",
              "      <td>1.0</td>\n",
              "      <td>3</td>\n",
              "      <td>0</td>\n",
              "      <td>2019</td>\n",
              "      <td>201</td>\n",
              "      <td>Hotels</td>\n",
              "      <td>19.008467</td>\n",
              "      <td>19.621439</td>\n",
              "      <td>11.322249</td>\n",
              "      <td>24.83</td>\n",
              "      <td>50.91</td>\n",
              "      <td>0</td>\n",
              "      <td>1108477.225</td>\n",
              "      <td>1047</td>\n",
              "    </tr>\n",
              "    <tr>\n",
              "      <th>3</th>\n",
              "      <td>1.0</td>\n",
              "      <td>4</td>\n",
              "      <td>0</td>\n",
              "      <td>2019</td>\n",
              "      <td>204</td>\n",
              "      <td>BedBreakfast</td>\n",
              "      <td>14.334185</td>\n",
              "      <td>18.951801</td>\n",
              "      <td>11.434856</td>\n",
              "      <td>14.23</td>\n",
              "      <td>31.11</td>\n",
              "      <td>0</td>\n",
              "      <td>869064.126</td>\n",
              "      <td>1162</td>\n",
              "    </tr>\n",
              "    <tr>\n",
              "      <th>4</th>\n",
              "      <td>1.0</td>\n",
              "      <td>5</td>\n",
              "      <td>0</td>\n",
              "      <td>2019</td>\n",
              "      <td>201</td>\n",
              "      <td>Hotels</td>\n",
              "      <td>19.740266</td>\n",
              "      <td>19.395670</td>\n",
              "      <td>11.287655</td>\n",
              "      <td>11.97</td>\n",
              "      <td>10.92</td>\n",
              "      <td>15773000</td>\n",
              "      <td>816012.000</td>\n",
              "      <td>976</td>\n",
              "    </tr>\n",
              "    <tr>\n",
              "      <th>...</th>\n",
              "      <td>...</td>\n",
              "      <td>...</td>\n",
              "      <td>...</td>\n",
              "      <td>...</td>\n",
              "      <td>...</td>\n",
              "      <td>...</td>\n",
              "      <td>...</td>\n",
              "      <td>...</td>\n",
              "      <td>...</td>\n",
              "      <td>...</td>\n",
              "      <td>...</td>\n",
              "      <td>...</td>\n",
              "      <td>...</td>\n",
              "      <td>...</td>\n",
              "    </tr>\n",
              "    <tr>\n",
              "      <th>2958</th>\n",
              "      <td>1.0</td>\n",
              "      <td>2959</td>\n",
              "      <td>0</td>\n",
              "      <td>2019</td>\n",
              "      <td>205</td>\n",
              "      <td>Restaurant</td>\n",
              "      <td>11.512925</td>\n",
              "      <td>11.016446</td>\n",
              "      <td>9.819562</td>\n",
              "      <td>-5.77</td>\n",
              "      <td>-68.34</td>\n",
              "      <td>0</td>\n",
              "      <td>2.394</td>\n",
              "      <td>1</td>\n",
              "    </tr>\n",
              "    <tr>\n",
              "      <th>2960</th>\n",
              "      <td>1.0</td>\n",
              "      <td>2961</td>\n",
              "      <td>8</td>\n",
              "      <td>2019</td>\n",
              "      <td>205</td>\n",
              "      <td>Restaurant</td>\n",
              "      <td>9.210340</td>\n",
              "      <td>10.555552</td>\n",
              "      <td>10.866089</td>\n",
              "      <td>-5.54</td>\n",
              "      <td>NaN</td>\n",
              "      <td>0</td>\n",
              "      <td>0.138</td>\n",
              "      <td>1</td>\n",
              "    </tr>\n",
              "    <tr>\n",
              "      <th>2964</th>\n",
              "      <td>1.0</td>\n",
              "      <td>2965</td>\n",
              "      <td>8</td>\n",
              "      <td>2019</td>\n",
              "      <td>205</td>\n",
              "      <td>Restaurant</td>\n",
              "      <td>9.210340</td>\n",
              "      <td>12.857137</td>\n",
              "      <td>10.862455</td>\n",
              "      <td>-97.02</td>\n",
              "      <td>-125.46</td>\n",
              "      <td>0</td>\n",
              "      <td>1.000</td>\n",
              "      <td>4</td>\n",
              "    </tr>\n",
              "    <tr>\n",
              "      <th>2971</th>\n",
              "      <td>1.0</td>\n",
              "      <td>2972</td>\n",
              "      <td>3</td>\n",
              "      <td>2019</td>\n",
              "      <td>201</td>\n",
              "      <td>Hotels</td>\n",
              "      <td>16.380460</td>\n",
              "      <td>11.219641</td>\n",
              "      <td>10.980195</td>\n",
              "      <td>-3.74</td>\n",
              "      <td>-3.75</td>\n",
              "      <td>0</td>\n",
              "      <td>1.000</td>\n",
              "      <td>1</td>\n",
              "    </tr>\n",
              "    <tr>\n",
              "      <th>2972</th>\n",
              "      <td>1.0</td>\n",
              "      <td>2973</td>\n",
              "      <td>4</td>\n",
              "      <td>2019</td>\n",
              "      <td>201</td>\n",
              "      <td>Hotels</td>\n",
              "      <td>13.997832</td>\n",
              "      <td>13.477782</td>\n",
              "      <td>10.741817</td>\n",
              "      <td>3.75</td>\n",
              "      <td>25.68</td>\n",
              "      <td>0</td>\n",
              "      <td>1.000</td>\n",
              "      <td>1</td>\n",
              "    </tr>\n",
              "  </tbody>\n",
              "</table>\n",
              "<p>1642 rows × 14 columns</p>\n",
              "</div>"
            ],
            "text/plain": [
              "      const    id  Region  ...       R&D  SalesRevenues Employees\n",
              "0       1.0     1       0  ...         0    3258939.000      4246\n",
              "1       1.0     2       0  ...         0    1712869.843      1165\n",
              "2       1.0     3       0  ...         0    1108477.225      1047\n",
              "3       1.0     4       0  ...         0     869064.126      1162\n",
              "4       1.0     5       0  ...  15773000     816012.000       976\n",
              "...     ...   ...     ...  ...       ...            ...       ...\n",
              "2958    1.0  2959       0  ...         0          2.394         1\n",
              "2960    1.0  2961       8  ...         0          0.138         1\n",
              "2964    1.0  2965       8  ...         0          1.000         4\n",
              "2971    1.0  2972       3  ...         0          1.000         1\n",
              "2972    1.0  2973       4  ...         0          1.000         1\n",
              "\n",
              "[1642 rows x 14 columns]"
            ]
          },
          "metadata": {
            "tags": []
          },
          "execution_count": 42
        }
      ]
    },
    {
      "cell_type": "code",
      "metadata": {
        "id": "Gcmrqad0dOON"
      },
      "source": [
        "reg_Region_YrEst_after2018 = LinearRegression(n_jobs=-1).fit(YrEstablh_after2018[['ShareholdersCapital','WagesSalary','Region']], YrEstablh_after2018['NetIncome'])"
      ],
      "execution_count": 43,
      "outputs": []
    },
    {
      "cell_type": "code",
      "metadata": {
        "colab": {
          "base_uri": "https://localhost:8080/"
        },
        "id": "AKaIzVISdOON",
        "outputId": "fc5cd050-7853-4586-e2c7-aec09939924e"
      },
      "source": [
        "print(reg_Region_YrEst_after2018.intercept_)"
      ],
      "execution_count": 44,
      "outputs": [
        {
          "output_type": "stream",
          "text": [
            "-2.1652324342027924\n"
          ],
          "name": "stdout"
        }
      ]
    },
    {
      "cell_type": "code",
      "metadata": {
        "colab": {
          "base_uri": "https://localhost:8080/"
        },
        "id": "DhAzYx7idOON",
        "outputId": "1a7ca619-47da-48a0-8ed1-6a7ac80c4a1b"
      },
      "source": [
        "print(reg_Region_YrEst_after2018.coef_)"
      ],
      "execution_count": 45,
      "outputs": [
        {
          "output_type": "stream",
          "text": [
            "[ 0.45208445  1.01921431 -0.0280875 ]\n"
          ],
          "name": "stdout"
        }
      ]
    },
    {
      "cell_type": "code",
      "metadata": {
        "colab": {
          "base_uri": "https://localhost:8080/"
        },
        "id": "k6pGZBGYdOOO",
        "outputId": "1973733c-a330-47c0-b9bd-1d966a7a79b9"
      },
      "source": [
        "# with statsmodels\n",
        "#df = sm.add_constant(df) # adding a constant\n",
        " \n",
        "modelRegion_after2018 = sm.OLS(YrEstablh_after2018['NetIncome'], YrEstablh_after2018[['ShareholdersCapital','WagesSalary','Region']]).fit()\n",
        "predictions = modelRegion_after2018.predict(YrEstablh_after2018[['ShareholdersCapital','WagesSalary','Region']]) \n",
        " \n",
        "print_modelRegion_after2018 = modelRegion_after2018.summary()\n",
        "print(print_modelRegion_after2018)"
      ],
      "execution_count": 46,
      "outputs": [
        {
          "output_type": "stream",
          "text": [
            "                                 OLS Regression Results                                \n",
            "=======================================================================================\n",
            "Dep. Variable:              NetIncome   R-squared (uncentered):                   0.994\n",
            "Model:                            OLS   Adj. R-squared (uncentered):              0.994\n",
            "Method:                 Least Squares   F-statistic:                          8.598e+04\n",
            "Date:                Tue, 29 Jun 2021   Prob (F-statistic):                        0.00\n",
            "Time:                        16:31:34   Log-Likelihood:                         -2486.7\n",
            "No. Observations:                1642   AIC:                                      4979.\n",
            "Df Residuals:                    1639   BIC:                                      4996.\n",
            "Df Model:                           3                                                  \n",
            "Covariance Type:            nonrobust                                                  \n",
            "=======================================================================================\n",
            "                          coef    std err          t      P>|t|      [0.025      0.975]\n",
            "---------------------------------------------------------------------------------------\n",
            "ShareholdersCapital     0.4586      0.014     33.933      0.000       0.432       0.485\n",
            "WagesSalary             0.8111      0.015     53.101      0.000       0.781       0.841\n",
            "Region                 -0.0366      0.006     -6.384      0.000      -0.048      -0.025\n",
            "==============================================================================\n",
            "Omnibus:                      155.917   Durbin-Watson:                   1.350\n",
            "Prob(Omnibus):                  0.000   Jarque-Bera (JB):              561.890\n",
            "Skew:                          -0.422   Prob(JB):                    9.71e-123\n",
            "Kurtosis:                       5.739   Cond. No.                         12.2\n",
            "==============================================================================\n",
            "\n",
            "Warnings:\n",
            "[1] Standard Errors assume that the covariance matrix of the errors is correctly specified.\n"
          ],
          "name": "stdout"
        }
      ]
    },
    {
      "cell_type": "code",
      "metadata": {
        "colab": {
          "base_uri": "https://localhost:8080/"
        },
        "id": "PgVeiWWedOOO",
        "outputId": "63271085-afa2-4d81-e820-2d922edc996d"
      },
      "source": [
        "print(\"NetIncome regressed over Capital and Wages:\")\n",
        "print(reg.intercept_, reg.coef_)\n",
        "print(\"\\n\")\n",
        "print(\"NetIncome regressed over Capital and Wages and Region:\")\n",
        "print(reg_with_Region.intercept_, reg_with_Region.coef_)\n",
        "print(\"\\n\")\n",
        "print(\"NetIncome regressed over Capital and Wages and Region with YrEst till 2018:\")\n",
        "print(reg_Region_YrEst_till2018.intercept_, reg_Region_YrEst_till2018.coef_)\n",
        "print(\"\\n\")\n",
        "print(\"NetIncome regressed over Capital and Wages and Region with YrEst after 2018:\")\n",
        "print(reg_Region_YrEst_after2018.intercept_, reg_Region_YrEst_after2018.coef_)"
      ],
      "execution_count": 47,
      "outputs": [
        {
          "output_type": "stream",
          "text": [
            "NetIncome regressed over Capital and Wages:\n",
            "-2.381993485656899 [0.44116822 1.03284267]\n",
            "\n",
            "\n",
            "NetIncome regressed over Capital and Wages and Region:\n",
            "-1.6903362013293641 [ 0.43896828  0.98345839 -0.03195339]\n",
            "\n",
            "\n",
            "NetIncome regressed over Capital and Wages and Region with YrEst till 2018:\n",
            "-1.0609990761773442 [ 0.41168587  0.94317279 -0.03281923]\n",
            "\n",
            "\n",
            "NetIncome regressed over Capital and Wages and Region with YrEst after 2018:\n",
            "-2.1652324342027924 [ 0.45208445  1.01921431 -0.0280875 ]\n"
          ],
          "name": "stdout"
        }
      ]
    },
    {
      "cell_type": "markdown",
      "metadata": {
        "id": "ITHgOKYedOOP"
      },
      "source": [
        "From the above results, we can see that all the models weighed the variables equally{Capital and Wages equally}\n",
        "\n",
        "We also notice Region coefficients didn't change much with the effect of YrEst till and after 2018\n",
        "\n",
        "From the basic data exploration, we see LOMBARDIA has the highest number of hotels and hence accounts to highest NetIncome\n",
        "\n",
        "The best model could be the 2nd model as it took into account the Region variable too and all the data points\n",
        "\n",
        "Where as models 3 and 4 took into account fewer rows owing to the differentiating factor on YrEst"
      ]
    }
  ]
}